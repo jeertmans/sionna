{
 "cells": [
  {
   "cell_type": "code",
   "execution_count": null,
   "id": "f2a3a3cf-b717-49be-8ecf-9552b9cdfb65",
   "metadata": {
    "tags": []
   },
   "outputs": [],
   "source": [
    "%matplotlib inline\n",
    "import matplotlib.pyplot as plt\n",
    "import numpy as np\n",
    "import time\n",
    "\n",
    "import sionna\n",
    "\n",
    "# Import Sionna RT components\n",
    "from sionna.rt import load_scene, Transmitter, Receiver, PlanarArray, Camera, Paths2CIR\n",
    "\n",
    "# For link-level simulations\n",
    "from sionna.channel import cir_to_ofdm_channel, subcarrier_frequencies, OFDMChannel, ApplyOFDMChannel, CIRDataset\n",
    "from sionna.nr import PUSCHConfig, PUSCHTransmitter, PUSCHReceiver\n",
    "from sionna.utils import compute_ber, ebnodb2no, PlotBER\n",
    "from sionna.ofdm import KBestDetector, LinearDetector\n",
    "from sionna.mimo import StreamManagement"
   ]
  },
  {
   "cell_type": "code",
   "execution_count": null,
   "id": "336c4e59-f026-4140-b395-f8c9dcd33521",
   "metadata": {
    "tags": []
   },
   "outputs": [],
   "source": [
    "# Load integrated scene\n",
    "scene = load_scene(sionna.rt.scene.simple_street_canyon) # Try also sionna.rt.scene.etoile\n",
    "\n",
    "# Configure antenna array for all transmitters\n",
    "scene.tx_array = PlanarArray(num_rows=1, \n",
    "                             num_cols=1,\n",
    "                             vertical_spacing=0.5,\n",
    "                             horizontal_spacing=0.5,\n",
    "                             pattern=\"tr38901\",\n",
    "                             polarization=\"V\")\n",
    "\n",
    "# Configure antenna array for all receivers\n",
    "scene.rx_array = PlanarArray(num_rows=1,\n",
    "                             num_cols=1,\n",
    "                             vertical_spacing=0.5,\n",
    "                             horizontal_spacing=0.5,\n",
    "                             pattern=\"dipole\",\n",
    "                             polarization=\"cross\")\n",
    "\n",
    "center = scene.center\n",
    "tx_position = [center[0], center[1] + 15, 55]\n",
    "rx_position = [center[0], center[1], 1.2]\n",
    "\n",
    "# Create transmitter\n",
    "tx = Transmitter(name=\"tx\",\n",
    "                 position=tx_position)\n",
    "\n",
    "# Add transmitter instance to scene\n",
    "scene.add(tx)\n",
    "\n",
    "# Create a receiver\n",
    "rx = Receiver(name=\"rx\",\n",
    "              position=rx_position,\n",
    "              orientation=[0,0,0])\n",
    "\n",
    "# Add receiver instance to scene\n",
    "scene.add(rx)\n",
    "\n",
    "tx.look_at(rx) # Transmitter points towards receiver\n",
    "\n",
    "scene.frequency = 2.14e9 # in Hz; implicitly updates RadioMaterials\n",
    "\n",
    "scene.synthetic_array = True # If set to False, ray tracing will be done per antenna element (slower for large arrays)\n",
    "\n",
    "scene.preview()"
   ]
  },
  {
   "cell_type": "code",
   "execution_count": null,
   "id": "195b3397-b442-4f03-9cb4-b3714e8b816b",
   "metadata": {
    "tags": []
   },
   "outputs": [],
   "source": [
    "# Compute propagation paths\n",
    "paths = scene.compute_paths(max_depth=5,\n",
    "                            method=\"stochastic\", # For small scenes the method can be also set to \"exhaustive\"\n",
    "                            num_samples=1e6,     # Number of rays shot into random directions, too few rays can lead to missing paths\n",
    "                            seed=42)             # By fixing the seed, reproducible results can be ensured\n",
    "\n",
    "scene.preview(paths, show_devices=True, show_paths=True) # Use the mouse to focus on the visualized paths"
   ]
  },
  {
   "cell_type": "code",
   "execution_count": null,
   "id": "1ad77768-656d-4ecd-be15-66645db9c8ad",
   "metadata": {},
   "outputs": [],
   "source": []
  }
 ],
 "metadata": {
  "kernelspec": {
   "display_name": "sionna",
   "language": "python",
   "name": "sionna"
  },
  "language_info": {
   "codemirror_mode": {
    "name": "ipython",
    "version": 3
   },
   "file_extension": ".py",
   "mimetype": "text/x-python",
   "name": "python",
   "nbconvert_exporter": "python",
   "pygments_lexer": "ipython3",
   "version": "3.10.6"
  }
 },
 "nbformat": 4,
 "nbformat_minor": 5
}
