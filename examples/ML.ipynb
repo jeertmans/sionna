{
 "cells": [
  {
   "cell_type": "code",
   "execution_count": null,
   "id": "f2a3a3cf-b717-49be-8ecf-9552b9cdfb65",
   "metadata": {
    "tags": []
   },
   "outputs": [],
   "source": [
    "import sionna\n",
    "import tensorflow as tf\n",
    "\n",
    "# Import Sionna RT components\n",
    "from sionna.rt import load_scene, PlanarArray, Receiver, Transmitter"
   ]
  },
  {
   "cell_type": "code",
   "execution_count": null,
   "id": "336c4e59-f026-4140-b395-f8c9dcd33521",
   "metadata": {
    "tags": []
   },
   "outputs": [],
   "source": [
    "seed = 1234\n",
    "\n",
    "# Load integrated scene\n",
    "\n",
    "scene_name = \"munich\"\n",
    "\n",
    "if scene_name == \"simple\":\n",
    "    scene = load_scene(sionna.rt.scene.simple_street_canyon)\n",
    "elif scene_name == \"etoile\":\n",
    "    scene = load_scene(sionna.rt.scene.etoile)\n",
    "elif scene_name == \"munich\":\n",
    "    scene = load_scene(sionna.rt.scene.munich)\n",
    "else:\n",
    "    raise ValueError(f\"Unknown scene '{scene_name}'\")\n",
    "\n",
    "# Configure antenna array for all transmitters\n",
    "scene.tx_array = PlanarArray(num_rows=1, \n",
    "                             num_cols=1,\n",
    "                             vertical_spacing=0.5,\n",
    "                             horizontal_spacing=0.5,\n",
    "                             pattern=\"iso\",\n",
    "                             polarization=\"cross\")\n",
    "\n",
    "# Configure antenna array for all receivers\n",
    "scene.rx_array = PlanarArray(num_rows=1,\n",
    "                             num_cols=1,\n",
    "                             vertical_spacing=0.5,\n",
    "                             horizontal_spacing=0.5,\n",
    "                             pattern=\"iso\",\n",
    "                             polarization=\"cross\")\n",
    "\n",
    "# Too large values can cause OOM errors (or lags) on\n",
    "# larger scenes.\n",
    "n_sources = 10\n",
    "n_targets = 10\n",
    "\n",
    "min_x, min_y, min_z = scene.mi_scene.bbox().min\n",
    "max_x, max_y, max_z = scene.mi_scene.bbox().max\n",
    "\n",
    "max_z += 10\n",
    "\n",
    "for i, x, y, z in zip(\n",
    "    range(n_sources),\n",
    "    tf.random.uniform((n_sources,), minval=min_x, maxval=max_x, seed=seed),\n",
    "    tf.random.uniform((n_sources,), minval=min_y, maxval=max_y, seed=seed),\n",
    "    tf.random.uniform((n_sources,), minval=min_z, maxval=max_z, seed=seed),\n",
    "):\n",
    "    # Create transmitter\n",
    "    tx = Transmitter(name=f\"tx_{i}\",\n",
    "                     position=[x, y, z])\n",
    "\n",
    "    # Add transmitter instance to scene\n",
    "    scene.add(tx)\n",
    "    \n",
    "for i, x, y, z in zip(\n",
    "    range(n_targets),\n",
    "    tf.random.uniform((n_targets,), minval=min_x, maxval=max_x, seed=seed),\n",
    "    tf.random.uniform((n_targets,), minval=min_y, maxval=max_y, seed=seed),\n",
    "    tf.random.uniform((n_targets,), minval=min_z, maxval=max_z, seed=seed),\n",
    "):\n",
    "    # Create receiver\n",
    "    rx = Receiver(name=f\"rx_{i}\",\n",
    "                  position=[x, y, z])\n",
    "\n",
    "    # Add receiver instance to scene\n",
    "    scene.add(rx)\n",
    "\n",
    "scene.preview()"
   ]
  },
  {
   "cell_type": "code",
   "execution_count": null,
   "id": "195b3397-b442-4f03-9cb4-b3714e8b816b",
   "metadata": {
    "tags": []
   },
   "outputs": [],
   "source": [
    "# Compute propagation paths\n",
    "paths = scene.compute_paths(max_depth=2,\n",
    "                            #method=\"exhaustive\",\n",
    "                            method=\"stochastic\", # For small scenes the method can be also set to \"exhaustive\"\n",
    "                            num_samples=1e6,     # Number of rays shot into random directions, too few rays can lead to missing paths\n",
    "                            seed=seed)           # By fixing the seed, reproducible results can be ensured\n",
    "\n",
    "scene.preview(paths, show_devices=True, show_paths=True) # Use the mouse to focus on the visualized paths"
   ]
  },
  {
   "cell_type": "code",
   "execution_count": null,
   "id": "1ad77768-656d-4ecd-be15-66645db9c8ad",
   "metadata": {
    "tags": []
   },
   "outputs": [],
   "source": [
    "# [max_depth, num_targets, num_sources, max_num_paths, coordinates : 3]\n",
    "# max_num_paths cannot be predicted, but is always <= num_primitives**max_depth + 1\n",
    "paths.vertices"
   ]
  }
 ],
 "metadata": {
  "kernelspec": {
   "display_name": "sionna",
   "language": "python",
   "name": "sionna"
  },
  "language_info": {
   "codemirror_mode": {
    "name": "ipython",
    "version": 3
   },
   "file_extension": ".py",
   "mimetype": "text/x-python",
   "name": "python",
   "nbconvert_exporter": "python",
   "pygments_lexer": "ipython3",
   "version": "3.10.6"
  }
 },
 "nbformat": 4,
 "nbformat_minor": 5
}
