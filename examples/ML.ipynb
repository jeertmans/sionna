{
 "cells": [
  {
   "cell_type": "markdown",
   "id": "062c36b9-1713-4676-8dcd-b551ab462a53",
   "metadata": {},
   "source": [
    "# How to generate input and output data for our model\n",
    "\n",
    "## Inputs\n",
    "\n",
    "- **Geometry**: a set of primitives (triangles) with\n",
    "  + variable size (number of primitives can vary from inputs);\n",
    "  + shape of `[n_primitives, 3, coordinates : 3]`;\n",
    "  + primitives order is **not** important.\n",
    "- **TX** and **RX**: transmitting and receiving nodes with\n",
    "  + variables number of **TX** or **RX**;\n",
    "  + each node has shape `[coordinates : 3`];\n",
    "  \n",
    "> NOTE: the problem should be separable for each pair of (TX, RX). I.e., addressing the problem of path finding as if there were only one TX and one RX is ok.\n",
    "\n",
    "## Output\n",
    "\n",
    "- **Paths**: a sequence of sequences of coordinates such that:\n",
    "  + the number of paths (i.e., the size of outer sequence) is variable;\n",
    "  + the size of a given path (i.e., the size of any inner sequence) is variable, but can be **bounded** by some factor, usually referred to as the `max_depth`.\n",
    "  \n",
    "> NOTE: it could be interesting to favor the paths that have the shortest length.\n",
    "  \n",
    "In practive, paths are stored in a continuous tensor in memory. As such, Sionna uses a padding value to indicate missing path: `0.0`. This is useful, e.g., if there exists 5 paths from `tx_0` to `rx_0`, but only 3 paths from `tx_0` to `rx_1`.\n",
    "\n",
    "For shorter paths, i.e., paths that have less than `max_depth` interactions, one must use some post-processing to remove invalid vertices. An example of such post-processing can be found in the function [`sionna.rt.utils.paths_to_segments`](https://github.com/jeertmans/sionna/blob/machine-learning/sionna/rt/utils.py#L270)."
   ]
  },
  {
   "cell_type": "code",
   "execution_count": null,
   "id": "f2a3a3cf-b717-49be-8ecf-9552b9cdfb65",
   "metadata": {
    "tags": []
   },
   "outputs": [],
   "source": [
    "import sionna\n",
    "import tensorflow as tf\n",
    "\n",
    "# Import Sionna RT components\n",
    "from sionna.rt import load_scene, PlanarArray, Receiver, Transmitter\n",
    "\n",
    "# For pretty printing\n",
    "from textwrap import indent"
   ]
  },
  {
   "cell_type": "code",
   "execution_count": null,
   "id": "336c4e59-f026-4140-b395-f8c9dcd33521",
   "metadata": {
    "tags": []
   },
   "outputs": [],
   "source": [
    "seed = 12\n",
    "\n",
    "# Load integrated scene\n",
    "\n",
    "scene_name = \"simple\"\n",
    "\n",
    "if scene_name == \"simple\":\n",
    "    scene = load_scene(sionna.rt.scene.simple_street_canyon)\n",
    "elif scene_name == \"etoile\":\n",
    "    scene = load_scene(sionna.rt.scene.etoile)\n",
    "elif scene_name == \"munich\":\n",
    "    scene = load_scene(sionna.rt.scene.munich)\n",
    "else:\n",
    "    raise ValueError(f\"Unknown scene '{scene_name}'\")\n",
    "\n",
    "# Configure antenna array for all transmitters\n",
    "scene.tx_array = PlanarArray(num_rows=1, \n",
    "                             num_cols=1,\n",
    "                             vertical_spacing=0.5,\n",
    "                             horizontal_spacing=0.5,\n",
    "                             pattern=\"iso\",\n",
    "                             polarization=\"cross\")\n",
    "\n",
    "# Configure antenna array for all receivers\n",
    "scene.rx_array = PlanarArray(num_rows=1,\n",
    "                             num_cols=1,\n",
    "                             vertical_spacing=0.5,\n",
    "                             horizontal_spacing=0.5,\n",
    "                             pattern=\"iso\",\n",
    "                             polarization=\"cross\")\n",
    "\n",
    "# Too large values can cause OOM errors (or lags) on\n",
    "# larger scenes.\n",
    "n_sources = 2\n",
    "n_targets = 2\n",
    "\n",
    "min_x, min_y, min_z = scene.mi_scene.bbox().min\n",
    "max_x, max_y, max_z = scene.mi_scene.bbox().max\n",
    "\n",
    "max_z += 10\n",
    "\n",
    "for i, x, y, z in zip(\n",
    "    range(n_sources),\n",
    "    tf.random.uniform((n_sources,), minval=min_x, maxval=max_x, seed=seed),\n",
    "    tf.random.uniform((n_sources,), minval=min_y, maxval=max_y, seed=seed),\n",
    "    tf.random.uniform((n_sources,), minval=min_z, maxval=max_z, seed=seed),\n",
    "):\n",
    "    # Create transmitter\n",
    "    tx = Transmitter(name=f\"tx_{i}\",\n",
    "                     position=[x, y, z])\n",
    "\n",
    "    # Add transmitter instance to scene\n",
    "    scene.add(tx)\n",
    "    \n",
    "for i, x, y, z in zip(\n",
    "    range(n_targets),\n",
    "    tf.random.uniform((n_targets,), minval=min_x, maxval=max_x, seed=seed),\n",
    "    tf.random.uniform((n_targets,), minval=min_y, maxval=max_y, seed=seed),\n",
    "    tf.random.uniform((n_targets,), minval=min_z, maxval=max_z, seed=seed),\n",
    "):\n",
    "    # Create receiver\n",
    "    rx = Receiver(name=f\"rx_{i}\",\n",
    "                  position=[x, y, z])\n",
    "\n",
    "    # Add receiver instance to scene\n",
    "    scene.add(rx)\n",
    "\n",
    "scene.preview()"
   ]
  },
  {
   "cell_type": "markdown",
   "id": "1c1d4536-f420-45a5-b4db-c325a40ff44e",
   "metadata": {},
   "source": [
    "# Current Inputs"
   ]
  },
  {
   "cell_type": "code",
   "execution_count": null,
   "id": "b5b45f0c-f04e-4083-8382-d6a9b62f0413",
   "metadata": {
    "tags": []
   },
   "outputs": [],
   "source": [
    "# First input: geometry primitives\n",
    "primitives = scene._solver._primitives\n",
    "print(primitives.shape)\n",
    "\n",
    "# NOTE: Python's builtin dict should keep the insert ordering when iterating over transmitters\n",
    "#       and receivers. So that the ith transmitters if tx_i.\n",
    "#       This invariant is important since we use indexing in the paths to make a given path\n",
    "#       correspond to as given (tx, rx) pair.\n",
    "\n",
    "i = 0\n",
    "j = 1\n",
    "\n",
    "# Second input\n",
    "tx = scene.transmitters[f\"tx_{i}\"].position\n",
    "rx = scene.receivers[f\"rx_{i}\"].position\n",
    "\n",
    "print(f\"tx_{i} located at\", tx.numpy())\n",
    "print(f\"rx_{i} located at\", rx.numpy())"
   ]
  },
  {
   "cell_type": "code",
   "execution_count": null,
   "id": "195b3397-b442-4f03-9cb4-b3714e8b816b",
   "metadata": {
    "tags": []
   },
   "outputs": [],
   "source": [
    "# Compute propagation paths\n",
    "paths = scene.compute_paths(max_depth=3,\n",
    "                            #method=\"exhaustive\",\n",
    "                            method=\"stochastic\", # For small scenes the method can be also set to \"exhaustive\"\n",
    "                            num_samples=1e6,     # Number of rays shot into random directions, too few rays can lead to missing paths\n",
    "                            seed=seed)           # By fixing the seed, reproducible results can be ensured\n",
    "\n",
    "scene.preview(paths, show_devices=True, show_paths=True) # Use the mouse to focus on the visualized paths"
   ]
  },
  {
   "cell_type": "markdown",
   "id": "df4ccb98-91c3-4e6b-bf20-7a06fb26e986",
   "metadata": {},
   "source": [
    "# Current Output"
   ]
  },
  {
   "cell_type": "code",
   "execution_count": null,
   "id": "1ad77768-656d-4ecd-be15-66645db9c8ad",
   "metadata": {
    "tags": []
   },
   "outputs": [],
   "source": [
    "# [max_depth, num_targets, num_sources, max_num_paths, coordinates : 3]\n",
    "# max_num_paths cannot be predicted, but is always <= num_primitives**max_depth + 1\n",
    "vertices = paths.vertices\n",
    "\n",
    "_, _, _, max_num_paths, _ = vertices.shape\n",
    "\n",
    "print(\"Output's shape over all (tx,rx) pairs:\", vertices.shape)\n",
    "\n",
    "print(f\"tx_{i} located at\", tx.numpy())\n",
    "print(f\"rx_{i} located at\", rx.numpy())\n",
    "\n",
    "# IMPORTANT: paths must be post-processed, see comment above.\n",
    "for k in range(max_num_paths):\n",
    "    path = vertices[:, j, i, k, :]\n",
    "    pretty_path = indent(repr(path), \"\\t\")\n",
    "    print(f\"\\nPath {k} from tx_{i} to rx_{j} is\", pretty_path, sep=\"\\n\")"
   ]
  }
 ],
 "metadata": {
  "kernelspec": {
   "display_name": "sionna",
   "language": "python",
   "name": "sionna"
  },
  "language_info": {
   "codemirror_mode": {
    "name": "ipython",
    "version": 3
   },
   "file_extension": ".py",
   "mimetype": "text/x-python",
   "name": "python",
   "nbconvert_exporter": "python",
   "pygments_lexer": "ipython3",
   "version": "3.10.6"
  }
 },
 "nbformat": 4,
 "nbformat_minor": 5
}
